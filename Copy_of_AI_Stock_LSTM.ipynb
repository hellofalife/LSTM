{
  "nbformat": 4,
  "nbformat_minor": 0,
  "metadata": {
    "colab": {
      "provenance": [],
      "include_colab_link": true
    },
    "kernelspec": {
      "name": "python3",
      "display_name": "Python 3"
    }
  },
  "cells": [
    {
      "cell_type": "markdown",
      "metadata": {
        "id": "view-in-github",
        "colab_type": "text"
      },
      "source": [
        "<a href=\"https://colab.research.google.com/github/hellofalife/LSTM/blob/main/Copy_of_AI_Stock_LSTM.ipynb\" target=\"_parent\"><img src=\"https://colab.research.google.com/assets/colab-badge.svg\" alt=\"Open In Colab\"/></a>"
      ]
    },
    {
      "cell_type": "markdown",
      "metadata": {
        "id": "_qTK4Ajv3qRz"
      },
      "source": [
        "In this Colab, we will use a keras Long Short-Term Memory (LSTM) model to predict the stock price of Tata Global Beverages\n"
      ]
    },
    {
      "cell_type": "markdown",
      "metadata": {
        "id": "rs-XEsB86weU"
      },
      "source": [
        "Here are some imports we need to make: numpy for scientific computation, matplotlib for graphing, and pandas for manipulating data."
      ]
    },
    {
      "cell_type": "code",
      "metadata": {
        "id": "2SoQJk5BYOas"
      },
      "source": [
        "import numpy as np\n",
        "import matplotlib.pyplot as plt\n",
        "import pandas as pd"
      ],
      "execution_count": null,
      "outputs": []
    },
    {
      "cell_type": "markdown",
      "metadata": {
        "id": "BD3hdApP7gNi"
      },
      "source": [
        "Load training data set with the \"Open\" and \"High\" columns to use in our modeling."
      ]
    },
    {
      "cell_type": "code",
      "metadata": {
        "id": "VU6ve06iDV5Q"
      },
      "source": [
        "url = 'https://raw.githubusercontent.com/mwitiderrick/stockprice/master/NSE-TATAGLOBAL.csv'\n",
        "dataset_train = pd.read_csv(url)\n",
        "training_set = dataset_train.iloc[:, 1:2].values"
      ],
      "execution_count": null,
      "outputs": []
    },
    {
      "cell_type": "markdown",
      "metadata": {
        "id": "RsLbMJ1072EY"
      },
      "source": [
        "Let's take a look at the first five rows of our dataset"
      ]
    },
    {
      "cell_type": "code",
      "metadata": {
        "id": "AqiQMcfCLh6K",
        "outputId": "d4eafdac-9c79-4e59-f205-9abd09998cb6",
        "colab": {
          "base_uri": "https://localhost:8080/",
          "height": 204
        }
      },
      "source": [
        "dataset_train.head()"
      ],
      "execution_count": null,
      "outputs": [
        {
          "output_type": "execute_result",
          "data": {
            "text/html": [
              "<div>\n",
              "<style scoped>\n",
              "    .dataframe tbody tr th:only-of-type {\n",
              "        vertical-align: middle;\n",
              "    }\n",
              "\n",
              "    .dataframe tbody tr th {\n",
              "        vertical-align: top;\n",
              "    }\n",
              "\n",
              "    .dataframe thead th {\n",
              "        text-align: right;\n",
              "    }\n",
              "</style>\n",
              "<table border=\"1\" class=\"dataframe\">\n",
              "  <thead>\n",
              "    <tr style=\"text-align: right;\">\n",
              "      <th></th>\n",
              "      <th>Date</th>\n",
              "      <th>Open</th>\n",
              "      <th>High</th>\n",
              "      <th>Low</th>\n",
              "      <th>Last</th>\n",
              "      <th>Close</th>\n",
              "      <th>Total Trade Quantity</th>\n",
              "      <th>Turnover (Lacs)</th>\n",
              "    </tr>\n",
              "  </thead>\n",
              "  <tbody>\n",
              "    <tr>\n",
              "      <th>0</th>\n",
              "      <td>2018-09-28</td>\n",
              "      <td>234.05</td>\n",
              "      <td>235.95</td>\n",
              "      <td>230.20</td>\n",
              "      <td>233.50</td>\n",
              "      <td>233.75</td>\n",
              "      <td>3069914</td>\n",
              "      <td>7162.35</td>\n",
              "    </tr>\n",
              "    <tr>\n",
              "      <th>1</th>\n",
              "      <td>2018-09-27</td>\n",
              "      <td>234.55</td>\n",
              "      <td>236.80</td>\n",
              "      <td>231.10</td>\n",
              "      <td>233.80</td>\n",
              "      <td>233.25</td>\n",
              "      <td>5082859</td>\n",
              "      <td>11859.95</td>\n",
              "    </tr>\n",
              "    <tr>\n",
              "      <th>2</th>\n",
              "      <td>2018-09-26</td>\n",
              "      <td>240.00</td>\n",
              "      <td>240.00</td>\n",
              "      <td>232.50</td>\n",
              "      <td>235.00</td>\n",
              "      <td>234.25</td>\n",
              "      <td>2240909</td>\n",
              "      <td>5248.60</td>\n",
              "    </tr>\n",
              "    <tr>\n",
              "      <th>3</th>\n",
              "      <td>2018-09-25</td>\n",
              "      <td>233.30</td>\n",
              "      <td>236.75</td>\n",
              "      <td>232.00</td>\n",
              "      <td>236.25</td>\n",
              "      <td>236.10</td>\n",
              "      <td>2349368</td>\n",
              "      <td>5503.90</td>\n",
              "    </tr>\n",
              "    <tr>\n",
              "      <th>4</th>\n",
              "      <td>2018-09-24</td>\n",
              "      <td>233.55</td>\n",
              "      <td>239.20</td>\n",
              "      <td>230.75</td>\n",
              "      <td>234.00</td>\n",
              "      <td>233.30</td>\n",
              "      <td>3423509</td>\n",
              "      <td>7999.55</td>\n",
              "    </tr>\n",
              "  </tbody>\n",
              "</table>\n",
              "</div>"
            ],
            "text/plain": [
              "         Date    Open    High  ...   Close  Total Trade Quantity  Turnover (Lacs)\n",
              "0  2018-09-28  234.05  235.95  ...  233.75               3069914          7162.35\n",
              "1  2018-09-27  234.55  236.80  ...  233.25               5082859         11859.95\n",
              "2  2018-09-26  240.00  240.00  ...  234.25               2240909          5248.60\n",
              "3  2018-09-25  233.30  236.75  ...  236.10               2349368          5503.90\n",
              "4  2018-09-24  233.55  239.20  ...  233.30               3423509          7999.55\n",
              "\n",
              "[5 rows x 8 columns]"
            ]
          },
          "metadata": {
            "tags": []
          },
          "execution_count": 14
        }
      ]
    },
    {
      "cell_type": "markdown",
      "metadata": {
        "id": "ii6nZaDI7-20"
      },
      "source": [
        "Import MinMaxScaler from scikit-learn to scale our dataset into numbers between 0 and 1"
      ]
    },
    {
      "cell_type": "code",
      "metadata": {
        "id": "Ub32hsA4MIXz"
      },
      "source": [
        "from sklearn.preprocessing import MinMaxScaler\n",
        "sc = MinMaxScaler(feature_range=(0,1))\n",
        "training_set_scaled = sc.fit_transform(training_set)"
      ],
      "execution_count": null,
      "outputs": []
    },
    {
      "cell_type": "markdown",
      "metadata": {
        "id": "aqze-4Is8Rb_"
      },
      "source": [
        "We want our data to be in the form of a 3D array for our LSTM model. First, we create data in 60 timesteps and convert it into an array using NumPy. Then, we convert the data into a 3D array with X_train samples, 60 timestamps, and one feature at each step."
      ]
    },
    {
      "cell_type": "code",
      "metadata": {
        "id": "qo7K06T2Mi_e"
      },
      "source": [
        "X_train = []\n",
        "y_train = []\n",
        "for i in range(60, 2035):\n",
        "    X_train.append(training_set_scaled[i-60:i, 0])\n",
        "    y_train.append(training_set_scaled[i, 0])\n",
        "X_train, y_train = np.array(X_train), np.array(y_train)\n",
        "\n",
        "X_train = np.reshape(X_train, (X_train.shape[0], X_train.shape[1], 1))"
      ],
      "execution_count": null,
      "outputs": []
    },
    {
      "cell_type": "markdown",
      "metadata": {
        "id": "anIlTzKO-r74"
      },
      "source": [
        "Make the necessary imports from keras"
      ]
    },
    {
      "cell_type": "code",
      "metadata": {
        "id": "TP9GVtb9Q-C9"
      },
      "source": [
        "from keras.models import Sequential\n",
        "from keras.layers import LSTM\n",
        "from keras.layers import Dropout\n",
        "from keras.layers import Dense"
      ],
      "execution_count": null,
      "outputs": []
    },
    {
      "cell_type": "markdown",
      "metadata": {
        "id": "hJrFWnOd-x2t"
      },
      "source": [
        "Add LSTM layer along with dropout layers to prevent overfitting. After that, we add a Dense layer that specifies a one unit output. Next, we compile the model using the adam optimizer and set the loss as the mean_squarred_error"
      ]
    },
    {
      "cell_type": "code",
      "metadata": {
        "id": "CMKVOwBnRcOc",
        "outputId": "56b2022c-7ea4-4bf0-9f21-8b0a22d8c52a",
        "colab": {
          "base_uri": "https://localhost:8080/",
          "height": 1000
        }
      },
      "source": [
        "model = Sequential()\n",
        "\n",
        "model.add(LSTM(units=50,return_sequences=True,input_shape=(X_train.shape[1], 1)))\n",
        "model.add(Dropout(0.2))\n",
        "\n",
        "model.add(LSTM(units=50,return_sequences=True))\n",
        "model.add(Dropout(0.2))\n",
        "\n",
        "model.add(LSTM(units=50,return_sequences=True))\n",
        "model.add(Dropout(0.2))\n",
        "\n",
        "model.add(LSTM(units=50))\n",
        "model.add(Dropout(0.2))\n",
        "\n",
        "model.add(Dense(units=1))\n",
        "\n",
        "model.compile(optimizer='adam',loss='mean_squared_error')\n",
        "\n",
        "model.fit(X_train,y_train,epochs=100,batch_size=32)"
      ],
      "execution_count": null,
      "outputs": [
        {
          "output_type": "stream",
          "text": [
            "Epoch 1/100\n",
            "1975/1975 [==============================] - 16s 8ms/step - loss: 0.0142\n",
            "Epoch 2/100\n",
            "1975/1975 [==============================] - 13s 6ms/step - loss: 0.0032\n",
            "Epoch 3/100\n",
            "1975/1975 [==============================] - 13s 6ms/step - loss: 0.0031\n",
            "Epoch 4/100\n",
            "1975/1975 [==============================] - 13s 7ms/step - loss: 0.0024\n",
            "Epoch 5/100\n",
            "1975/1975 [==============================] - 12s 6ms/step - loss: 0.0026\n",
            "Epoch 6/100\n",
            "1975/1975 [==============================] - 12s 6ms/step - loss: 0.0023\n",
            "Epoch 7/100\n",
            "1975/1975 [==============================] - 12s 6ms/step - loss: 0.0020\n",
            "Epoch 8/100\n",
            "1975/1975 [==============================] - 12s 6ms/step - loss: 0.0019\n",
            "Epoch 9/100\n",
            "1975/1975 [==============================] - 12s 6ms/step - loss: 0.0024\n",
            "Epoch 10/100\n",
            "1975/1975 [==============================] - 12s 6ms/step - loss: 0.0020\n",
            "Epoch 11/100\n",
            "1975/1975 [==============================] - 12s 6ms/step - loss: 0.0020\n",
            "Epoch 12/100\n",
            "1975/1975 [==============================] - 12s 6ms/step - loss: 0.0019\n",
            "Epoch 13/100\n",
            "1975/1975 [==============================] - 13s 7ms/step - loss: 0.0018\n",
            "Epoch 14/100\n",
            "1975/1975 [==============================] - 13s 6ms/step - loss: 0.0018\n",
            "Epoch 15/100\n",
            "1975/1975 [==============================] - 13s 6ms/step - loss: 0.0016\n",
            "Epoch 16/100\n",
            "1975/1975 [==============================] - 13s 6ms/step - loss: 0.0013\n",
            "Epoch 17/100\n",
            "1975/1975 [==============================] - 12s 6ms/step - loss: 0.0016\n",
            "Epoch 18/100\n",
            "1975/1975 [==============================] - 12s 6ms/step - loss: 0.0013\n",
            "Epoch 19/100\n",
            "1975/1975 [==============================] - 12s 6ms/step - loss: 0.0015\n",
            "Epoch 20/100\n",
            "1975/1975 [==============================] - 12s 6ms/step - loss: 0.0015\n",
            "Epoch 21/100\n",
            "1975/1975 [==============================] - 12s 6ms/step - loss: 0.0013\n",
            "Epoch 22/100\n",
            "1975/1975 [==============================] - 13s 6ms/step - loss: 0.0015\n",
            "Epoch 23/100\n",
            "1975/1975 [==============================] - 12s 6ms/step - loss: 0.0013\n",
            "Epoch 24/100\n",
            "1975/1975 [==============================] - 13s 7ms/step - loss: 0.0012\n",
            "Epoch 25/100\n",
            "1975/1975 [==============================] - 13s 7ms/step - loss: 0.0013\n",
            "Epoch 26/100\n",
            "1975/1975 [==============================] - 13s 6ms/step - loss: 0.0016\n",
            "Epoch 27/100\n",
            "1975/1975 [==============================] - 13s 6ms/step - loss: 0.0012\n",
            "Epoch 28/100\n",
            "1975/1975 [==============================] - 12s 6ms/step - loss: 0.0013\n",
            "Epoch 29/100\n",
            "1975/1975 [==============================] - 12s 6ms/step - loss: 0.0012\n",
            "Epoch 30/100\n",
            "1975/1975 [==============================] - 12s 6ms/step - loss: 0.0010\n",
            "Epoch 31/100\n",
            "1975/1975 [==============================] - 12s 6ms/step - loss: 0.0012\n",
            "Epoch 32/100\n",
            "1975/1975 [==============================] - 12s 6ms/step - loss: 0.0012\n",
            "Epoch 33/100\n",
            "1975/1975 [==============================] - 12s 6ms/step - loss: 0.0011\n",
            "Epoch 34/100\n",
            "1975/1975 [==============================] - 13s 7ms/step - loss: 0.0011\n",
            "Epoch 35/100\n",
            "1975/1975 [==============================] - 13s 7ms/step - loss: 0.0011\n",
            "Epoch 36/100\n",
            "1975/1975 [==============================] - 13s 6ms/step - loss: 0.0011\n",
            "Epoch 37/100\n",
            "1975/1975 [==============================] - 13s 6ms/step - loss: 0.0012\n",
            "Epoch 38/100\n",
            "1975/1975 [==============================] - 13s 6ms/step - loss: 0.0010\n",
            "Epoch 39/100\n",
            "1975/1975 [==============================] - 12s 6ms/step - loss: 9.9825e-04\n",
            "Epoch 40/100\n",
            "1975/1975 [==============================] - 12s 6ms/step - loss: 0.0010\n",
            "Epoch 41/100\n",
            "1975/1975 [==============================] - 12s 6ms/step - loss: 9.9635e-04\n",
            "Epoch 42/100\n",
            "1975/1975 [==============================] - 12s 6ms/step - loss: 9.2451e-04\n",
            "Epoch 43/100\n",
            "1975/1975 [==============================] - 12s 6ms/step - loss: 9.5933e-04\n",
            "Epoch 44/100\n",
            "1975/1975 [==============================] - 13s 6ms/step - loss: 9.2699e-04\n",
            "Epoch 45/100\n",
            "1975/1975 [==============================] - 13s 7ms/step - loss: 8.2947e-04\n",
            "Epoch 46/100\n",
            "1975/1975 [==============================] - 13s 7ms/step - loss: 8.2260e-04\n",
            "Epoch 47/100\n",
            "1975/1975 [==============================] - 13s 7ms/step - loss: 9.0822e-04\n",
            "Epoch 48/100\n",
            "1975/1975 [==============================] - 12s 6ms/step - loss: 8.6241e-04\n",
            "Epoch 49/100\n",
            "1975/1975 [==============================] - 12s 6ms/step - loss: 8.8776e-04\n",
            "Epoch 50/100\n",
            "1975/1975 [==============================] - 12s 6ms/step - loss: 8.1270e-04\n",
            "Epoch 51/100\n",
            "1975/1975 [==============================] - 12s 6ms/step - loss: 7.7384e-04\n",
            "Epoch 52/100\n",
            "1975/1975 [==============================] - 12s 6ms/step - loss: 9.4085e-04\n",
            "Epoch 53/100\n",
            "1975/1975 [==============================] - 12s 6ms/step - loss: 9.4244e-04\n",
            "Epoch 54/100\n",
            "1975/1975 [==============================] - 12s 6ms/step - loss: 7.8353e-04\n",
            "Epoch 55/100\n",
            "1975/1975 [==============================] - 13s 7ms/step - loss: 8.6989e-04\n",
            "Epoch 56/100\n",
            "1975/1975 [==============================] - 13s 6ms/step - loss: 7.8139e-04\n",
            "Epoch 57/100\n",
            "1975/1975 [==============================] - 13s 6ms/step - loss: 8.3654e-04\n",
            "Epoch 58/100\n",
            "1975/1975 [==============================] - 12s 6ms/step - loss: 7.9018e-04\n",
            "Epoch 59/100\n",
            "1975/1975 [==============================] - 12s 6ms/step - loss: 7.5839e-04\n",
            "Epoch 60/100\n",
            "1975/1975 [==============================] - 12s 6ms/step - loss: 7.1182e-04\n",
            "Epoch 61/100\n",
            "1975/1975 [==============================] - 11s 6ms/step - loss: 7.1238e-04\n",
            "Epoch 62/100\n",
            "1975/1975 [==============================] - 12s 6ms/step - loss: 7.8813e-04\n",
            "Epoch 63/100\n",
            "1975/1975 [==============================] - 12s 6ms/step - loss: 7.6849e-04\n",
            "Epoch 64/100\n",
            "1975/1975 [==============================] - 12s 6ms/step - loss: 6.9854e-04\n",
            "Epoch 65/100\n",
            "1975/1975 [==============================] - 13s 6ms/step - loss: 6.5454e-04\n",
            "Epoch 66/100\n",
            "1975/1975 [==============================] - 13s 7ms/step - loss: 9.7882e-04\n",
            "Epoch 67/100\n",
            "1975/1975 [==============================] - 13s 7ms/step - loss: 7.4597e-04\n",
            "Epoch 68/100\n",
            "1975/1975 [==============================] - 12s 6ms/step - loss: 6.5262e-04\n",
            "Epoch 69/100\n",
            "1975/1975 [==============================] - 12s 6ms/step - loss: 7.3974e-04\n",
            "Epoch 70/100\n",
            "1975/1975 [==============================] - 12s 6ms/step - loss: 6.2937e-04\n",
            "Epoch 71/100\n",
            "1975/1975 [==============================] - 13s 7ms/step - loss: 7.1008e-04\n",
            "Epoch 72/100\n",
            "1975/1975 [==============================] - 12s 6ms/step - loss: 8.3312e-04\n",
            "Epoch 73/100\n",
            "1975/1975 [==============================] - 12s 6ms/step - loss: 6.5148e-04\n",
            "Epoch 74/100\n",
            "1975/1975 [==============================] - 12s 6ms/step - loss: 8.7905e-04\n",
            "Epoch 75/100\n",
            "1975/1975 [==============================] - 13s 7ms/step - loss: 6.8884e-04\n",
            "Epoch 76/100\n",
            "1975/1975 [==============================] - 14s 7ms/step - loss: 6.5543e-04\n",
            "Epoch 77/100\n",
            "1975/1975 [==============================] - 13s 7ms/step - loss: 8.0628e-04\n",
            "Epoch 78/100\n",
            "1975/1975 [==============================] - 13s 7ms/step - loss: 6.6255e-04\n",
            "Epoch 79/100\n",
            "1975/1975 [==============================] - 12s 6ms/step - loss: 5.8123e-04\n",
            "Epoch 80/100\n",
            "1975/1975 [==============================] - 12s 6ms/step - loss: 7.0392e-04\n",
            "Epoch 81/100\n",
            "1975/1975 [==============================] - 12s 6ms/step - loss: 7.2067e-04\n",
            "Epoch 82/100\n",
            "1975/1975 [==============================] - 12s 6ms/step - loss: 7.8039e-04\n",
            "Epoch 83/100\n",
            "1975/1975 [==============================] - 12s 6ms/step - loss: 6.6438e-04\n",
            "Epoch 84/100\n",
            "1975/1975 [==============================] - 14s 7ms/step - loss: 7.1402e-04\n",
            "Epoch 85/100\n",
            "1975/1975 [==============================] - 12s 6ms/step - loss: 7.0351e-04\n",
            "Epoch 86/100\n",
            "1975/1975 [==============================] - 12s 6ms/step - loss: 6.7213e-04\n",
            "Epoch 87/100\n",
            "1975/1975 [==============================] - 12s 6ms/step - loss: 6.4522e-04\n",
            "Epoch 88/100\n",
            "1975/1975 [==============================] - 13s 6ms/step - loss: 7.4621e-04\n",
            "Epoch 89/100\n",
            "1975/1975 [==============================] - 12s 6ms/step - loss: 5.6065e-04\n",
            "Epoch 90/100\n",
            "1975/1975 [==============================] - 12s 6ms/step - loss: 7.2136e-04\n",
            "Epoch 91/100\n",
            "1975/1975 [==============================] - 12s 6ms/step - loss: 6.8760e-04\n",
            "Epoch 92/100\n",
            "1975/1975 [==============================] - 12s 6ms/step - loss: 6.2799e-04\n",
            "Epoch 93/100\n",
            "1975/1975 [==============================] - 12s 6ms/step - loss: 6.5257e-04\n",
            "Epoch 94/100\n",
            "1975/1975 [==============================] - 12s 6ms/step - loss: 6.6454e-04\n",
            "Epoch 95/100\n",
            "1975/1975 [==============================] - 13s 6ms/step - loss: 6.3161e-04\n",
            "Epoch 96/100\n",
            "1975/1975 [==============================] - 13s 7ms/step - loss: 6.4054e-04\n",
            "Epoch 97/100\n",
            "1975/1975 [==============================] - 13s 7ms/step - loss: 6.9562e-04\n",
            "Epoch 98/100\n",
            "1975/1975 [==============================] - 13s 7ms/step - loss: 7.1236e-04\n",
            "Epoch 99/100\n",
            "1975/1975 [==============================] - 12s 6ms/step - loss: 6.2855e-04\n",
            "Epoch 100/100\n",
            "1975/1975 [==============================] - 12s 6ms/step - loss: 6.2628e-04\n"
          ],
          "name": "stdout"
        },
        {
          "output_type": "execute_result",
          "data": {
            "text/plain": [
              "<keras.callbacks.History at 0x7fabaf58bf60>"
            ]
          },
          "metadata": {
            "tags": []
          },
          "execution_count": 18
        }
      ]
    },
    {
      "cell_type": "markdown",
      "metadata": {
        "id": "N7_w_7x-A44v"
      },
      "source": [
        "Import the test set for the model to make predictions on"
      ]
    },
    {
      "cell_type": "code",
      "metadata": {
        "id": "ns2TngWrUaz5"
      },
      "source": [
        "url = 'https://raw.githubusercontent.com/mwitiderrick/stockprice/master/tatatest.csv'\n",
        "dataset_test = pd.read_csv(url)\n",
        "real_stock_price = dataset_test.iloc[:, 1:2].values"
      ],
      "execution_count": null,
      "outputs": []
    },
    {
      "cell_type": "markdown",
      "metadata": {
        "id": "WXGKvoo6BAyd"
      },
      "source": [
        "Before predicting future stock prices, we have to manipulate the training set; we merge the training set and the test set on the 0 axis, set the time step to 60, use minmaxscaler, and reshape the dataset as done previously. After making predictions, we use inverse_transform to get back the stock prices in normal readable format.\n"
      ]
    },
    {
      "cell_type": "code",
      "metadata": {
        "id": "pBbdst_BV_PB"
      },
      "source": [
        "dataset_total = pd.concat((dataset_train['Open'], dataset_test['Open']), axis = 0)\n",
        "inputs = dataset_total[len(dataset_total) - len(dataset_test) - 60:].values\n",
        "inputs = inputs.reshape(-1,1)\n",
        "inputs = sc.transform(inputs)\n",
        "X_test = []\n",
        "for i in range(60, 76):\n",
        "    X_test.append(inputs[i-60:i, 0])\n",
        "X_test = np.array(X_test)\n",
        "X_test = np.reshape(X_test, (X_test.shape[0], X_test.shape[1], 1))\n",
        "predicted_stock_price = model.predict(X_test)\n",
        "predicted_stock_price = sc.inverse_transform(predicted_stock_price)"
      ],
      "execution_count": null,
      "outputs": []
    },
    {
      "cell_type": "markdown",
      "metadata": {
        "id": "BAj_a3n0B3nz"
      },
      "source": [
        "Plot our predicted stock prices and the actual stock price"
      ]
    },
    {
      "cell_type": "code",
      "metadata": {
        "id": "czWvnIANYSqI",
        "outputId": "58192e91-599a-4443-f28b-b5d62adcacfc",
        "colab": {
          "base_uri": "https://localhost:8080/",
          "height": 286
        }
      },
      "source": [
        "plt.plot(real_stock_price, color = 'black', label = 'TATA Stock Price')\n",
        "plt.plot(predicted_stock_price, color = 'green', label = 'Predicted TATA Stock Price')\n",
        "plt.title('TATA Stock Price Prediction')\n",
        "plt.xlabel('Time')\n",
        "plt.ylabel('TATA Stock Price')\n",
        "plt.legend()\n",
        "plt.show()"
      ],
      "execution_count": null,
      "outputs": [
        {
          "output_type": "error",
          "ename": "NameError",
          "evalue": "name 'plt' is not defined",
          "traceback": [
            "\u001b[0;31m---------------------------------------------------------------------------\u001b[0m",
            "\u001b[0;31mNameError\u001b[0m                                 Traceback (most recent call last)",
            "\u001b[0;32m<ipython-input-1-44433d97fc24>\u001b[0m in \u001b[0;36m<cell line: 1>\u001b[0;34m()\u001b[0m\n\u001b[0;32m----> 1\u001b[0;31m \u001b[0mplt\u001b[0m\u001b[0;34m.\u001b[0m\u001b[0mplot\u001b[0m\u001b[0;34m(\u001b[0m\u001b[0mreal_stock_price\u001b[0m\u001b[0;34m,\u001b[0m \u001b[0mcolor\u001b[0m \u001b[0;34m=\u001b[0m \u001b[0;34m'black'\u001b[0m\u001b[0;34m,\u001b[0m \u001b[0mlabel\u001b[0m \u001b[0;34m=\u001b[0m \u001b[0;34m'TATA Stock Price'\u001b[0m\u001b[0;34m)\u001b[0m\u001b[0;34m\u001b[0m\u001b[0;34m\u001b[0m\u001b[0m\n\u001b[0m\u001b[1;32m      2\u001b[0m \u001b[0mplt\u001b[0m\u001b[0;34m.\u001b[0m\u001b[0mplot\u001b[0m\u001b[0;34m(\u001b[0m\u001b[0mpredicted_stock_price\u001b[0m\u001b[0;34m,\u001b[0m \u001b[0mcolor\u001b[0m \u001b[0;34m=\u001b[0m \u001b[0;34m'green'\u001b[0m\u001b[0;34m,\u001b[0m \u001b[0mlabel\u001b[0m \u001b[0;34m=\u001b[0m \u001b[0;34m'Predicted TATA Stock Price'\u001b[0m\u001b[0;34m)\u001b[0m\u001b[0;34m\u001b[0m\u001b[0;34m\u001b[0m\u001b[0m\n\u001b[1;32m      3\u001b[0m \u001b[0mplt\u001b[0m\u001b[0;34m.\u001b[0m\u001b[0mtitle\u001b[0m\u001b[0;34m(\u001b[0m\u001b[0;34m'TATA Stock Price Prediction'\u001b[0m\u001b[0;34m)\u001b[0m\u001b[0;34m\u001b[0m\u001b[0;34m\u001b[0m\u001b[0m\n\u001b[1;32m      4\u001b[0m \u001b[0mplt\u001b[0m\u001b[0;34m.\u001b[0m\u001b[0mxlabel\u001b[0m\u001b[0;34m(\u001b[0m\u001b[0;34m'Time'\u001b[0m\u001b[0;34m)\u001b[0m\u001b[0;34m\u001b[0m\u001b[0;34m\u001b[0m\u001b[0m\n\u001b[1;32m      5\u001b[0m \u001b[0mplt\u001b[0m\u001b[0;34m.\u001b[0m\u001b[0mylabel\u001b[0m\u001b[0;34m(\u001b[0m\u001b[0;34m'TATA Stock Price'\u001b[0m\u001b[0;34m)\u001b[0m\u001b[0;34m\u001b[0m\u001b[0;34m\u001b[0m\u001b[0m\n",
            "\u001b[0;31mNameError\u001b[0m: name 'plt' is not defined"
          ]
        }
      ]
    }
  ]
}